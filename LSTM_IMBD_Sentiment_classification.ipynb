{
  "nbformat": 4,
  "nbformat_minor": 0,
  "metadata": {
    "colab": {
      "name": "LSTM-IMBD-Sentiment-classification.ipynb",
      "provenance": [],
      "authorship_tag": "ABX9TyOkZh3SHOf3poDnnMqi4E0f",
      "include_colab_link": true
    },
    "kernelspec": {
      "name": "python3",
      "display_name": "Python 3"
    },
    "language_info": {
      "name": "python"
    }
  },
  "cells": [
    {
      "cell_type": "markdown",
      "metadata": {
        "id": "view-in-github",
        "colab_type": "text"
      },
      "source": [
        "<a href=\"https://colab.research.google.com/github/pradeeppatwa/NLP_Sentiment-Analysis-and-Classification-using-IMDB-Dataset-and-LSTM/blob/main/LSTM_IMBD_Sentiment_classification.ipynb\" target=\"_parent\"><img src=\"https://colab.research.google.com/assets/colab-badge.svg\" alt=\"Open In Colab\"/></a>"
      ]
    },
    {
      "cell_type": "markdown",
      "source": [
        "Importing Dependencies :"
      ],
      "metadata": {
        "id": "-iUzMeFDswW0"
      }
    },
    {
      "cell_type": "code",
      "execution_count": 37,
      "metadata": {
        "colab": {
          "base_uri": "https://localhost:8080/"
        },
        "id": "LEoA8Xq5XtJ8",
        "outputId": "52653d39-0095-4f27-cabe-9c50dbf6f651"
      },
      "outputs": [
        {
          "output_type": "stream",
          "name": "stdout",
          "text": [
            "[nltk_data] Downloading package punkt to /root/nltk_data...\n",
            "[nltk_data]   Package punkt is already up-to-date!\n"
          ]
        }
      ],
      "source": [
        "import pandas as pd\n",
        "import numpy as np\n",
        "import matplotlib.pyplot as plt\n",
        "import seaborn as sns\n",
        "import nltk\n",
        "nltk.download('punkt')\n",
        "\n",
        "from nltk.tokenize import word_tokenize    #sentence is splited into single words\n",
        "from keras.preprocessing.text import Tokenizer  #words to numeric values\n",
        "from keras.preprocessing.sequence import pad_sequences  #pad extra values to make equal length\n",
        "from keras.models import Sequential  \n",
        "from keras.layers import Embedding, LSTM, Dense, Dropout\n",
        "from sklearn.preprocessing import LabelEncoder\n",
        "\n",
        "import warnings\n",
        "warnings.filterwarnings('ignore')\n",
        "sns.set()"
      ]
    },
    {
      "cell_type": "markdown",
      "source": [
        "Importing Data :"
      ],
      "metadata": {
        "id": "NVkZkJ67s5Wl"
      }
    },
    {
      "cell_type": "code",
      "source": [
        "data = open(\"IMDB Dataset.csv\")\n",
        "imbd = pd.read_csv(data)\n",
        "imbd.head()"
      ],
      "metadata": {
        "colab": {
          "base_uri": "https://localhost:8080/",
          "height": 206
        },
        "id": "IIln_sovaOZY",
        "outputId": "c2210779-b4d7-474d-8311-1f9b35962936"
      },
      "execution_count": 38,
      "outputs": [
        {
          "output_type": "execute_result",
          "data": {
            "text/html": [
              "\n",
              "  <div id=\"df-28f4eb1c-c001-4bc1-bbf0-8d92f7051255\">\n",
              "    <div class=\"colab-df-container\">\n",
              "      <div>\n",
              "<style scoped>\n",
              "    .dataframe tbody tr th:only-of-type {\n",
              "        vertical-align: middle;\n",
              "    }\n",
              "\n",
              "    .dataframe tbody tr th {\n",
              "        vertical-align: top;\n",
              "    }\n",
              "\n",
              "    .dataframe thead th {\n",
              "        text-align: right;\n",
              "    }\n",
              "</style>\n",
              "<table border=\"1\" class=\"dataframe\">\n",
              "  <thead>\n",
              "    <tr style=\"text-align: right;\">\n",
              "      <th></th>\n",
              "      <th>review</th>\n",
              "      <th>sentiment</th>\n",
              "    </tr>\n",
              "  </thead>\n",
              "  <tbody>\n",
              "    <tr>\n",
              "      <th>0</th>\n",
              "      <td>One of the other reviewers has mentioned that ...</td>\n",
              "      <td>positive</td>\n",
              "    </tr>\n",
              "    <tr>\n",
              "      <th>1</th>\n",
              "      <td>A wonderful little production. &lt;br /&gt;&lt;br /&gt;The...</td>\n",
              "      <td>positive</td>\n",
              "    </tr>\n",
              "    <tr>\n",
              "      <th>2</th>\n",
              "      <td>I thought this was a wonderful way to spend ti...</td>\n",
              "      <td>positive</td>\n",
              "    </tr>\n",
              "    <tr>\n",
              "      <th>3</th>\n",
              "      <td>Basically there's a family where a little boy ...</td>\n",
              "      <td>negative</td>\n",
              "    </tr>\n",
              "    <tr>\n",
              "      <th>4</th>\n",
              "      <td>Petter Mattei's \"Love in the Time of Money\" is...</td>\n",
              "      <td>positive</td>\n",
              "    </tr>\n",
              "  </tbody>\n",
              "</table>\n",
              "</div>\n",
              "      <button class=\"colab-df-convert\" onclick=\"convertToInteractive('df-28f4eb1c-c001-4bc1-bbf0-8d92f7051255')\"\n",
              "              title=\"Convert this dataframe to an interactive table.\"\n",
              "              style=\"display:none;\">\n",
              "        \n",
              "  <svg xmlns=\"http://www.w3.org/2000/svg\" height=\"24px\"viewBox=\"0 0 24 24\"\n",
              "       width=\"24px\">\n",
              "    <path d=\"M0 0h24v24H0V0z\" fill=\"none\"/>\n",
              "    <path d=\"M18.56 5.44l.94 2.06.94-2.06 2.06-.94-2.06-.94-.94-2.06-.94 2.06-2.06.94zm-11 1L8.5 8.5l.94-2.06 2.06-.94-2.06-.94L8.5 2.5l-.94 2.06-2.06.94zm10 10l.94 2.06.94-2.06 2.06-.94-2.06-.94-.94-2.06-.94 2.06-2.06.94z\"/><path d=\"M17.41 7.96l-1.37-1.37c-.4-.4-.92-.59-1.43-.59-.52 0-1.04.2-1.43.59L10.3 9.45l-7.72 7.72c-.78.78-.78 2.05 0 2.83L4 21.41c.39.39.9.59 1.41.59.51 0 1.02-.2 1.41-.59l7.78-7.78 2.81-2.81c.8-.78.8-2.07 0-2.86zM5.41 20L4 18.59l7.72-7.72 1.47 1.35L5.41 20z\"/>\n",
              "  </svg>\n",
              "      </button>\n",
              "      \n",
              "  <style>\n",
              "    .colab-df-container {\n",
              "      display:flex;\n",
              "      flex-wrap:wrap;\n",
              "      gap: 12px;\n",
              "    }\n",
              "\n",
              "    .colab-df-convert {\n",
              "      background-color: #E8F0FE;\n",
              "      border: none;\n",
              "      border-radius: 50%;\n",
              "      cursor: pointer;\n",
              "      display: none;\n",
              "      fill: #1967D2;\n",
              "      height: 32px;\n",
              "      padding: 0 0 0 0;\n",
              "      width: 32px;\n",
              "    }\n",
              "\n",
              "    .colab-df-convert:hover {\n",
              "      background-color: #E2EBFA;\n",
              "      box-shadow: 0px 1px 2px rgba(60, 64, 67, 0.3), 0px 1px 3px 1px rgba(60, 64, 67, 0.15);\n",
              "      fill: #174EA6;\n",
              "    }\n",
              "\n",
              "    [theme=dark] .colab-df-convert {\n",
              "      background-color: #3B4455;\n",
              "      fill: #D2E3FC;\n",
              "    }\n",
              "\n",
              "    [theme=dark] .colab-df-convert:hover {\n",
              "      background-color: #434B5C;\n",
              "      box-shadow: 0px 1px 3px 1px rgba(0, 0, 0, 0.15);\n",
              "      filter: drop-shadow(0px 1px 2px rgba(0, 0, 0, 0.3));\n",
              "      fill: #FFFFFF;\n",
              "    }\n",
              "  </style>\n",
              "\n",
              "      <script>\n",
              "        const buttonEl =\n",
              "          document.querySelector('#df-28f4eb1c-c001-4bc1-bbf0-8d92f7051255 button.colab-df-convert');\n",
              "        buttonEl.style.display =\n",
              "          google.colab.kernel.accessAllowed ? 'block' : 'none';\n",
              "\n",
              "        async function convertToInteractive(key) {\n",
              "          const element = document.querySelector('#df-28f4eb1c-c001-4bc1-bbf0-8d92f7051255');\n",
              "          const dataTable =\n",
              "            await google.colab.kernel.invokeFunction('convertToInteractive',\n",
              "                                                     [key], {});\n",
              "          if (!dataTable) return;\n",
              "\n",
              "          const docLinkHtml = 'Like what you see? Visit the ' +\n",
              "            '<a target=\"_blank\" href=https://colab.research.google.com/notebooks/data_table.ipynb>data table notebook</a>'\n",
              "            + ' to learn more about interactive tables.';\n",
              "          element.innerHTML = '';\n",
              "          dataTable['output_type'] = 'display_data';\n",
              "          await google.colab.output.renderOutput(dataTable, element);\n",
              "          const docLink = document.createElement('div');\n",
              "          docLink.innerHTML = docLinkHtml;\n",
              "          element.appendChild(docLink);\n",
              "        }\n",
              "      </script>\n",
              "    </div>\n",
              "  </div>\n",
              "  "
            ],
            "text/plain": [
              "                                              review sentiment\n",
              "0  One of the other reviewers has mentioned that ...  positive\n",
              "1  A wonderful little production. <br /><br />The...  positive\n",
              "2  I thought this was a wonderful way to spend ti...  positive\n",
              "3  Basically there's a family where a little boy ...  negative\n",
              "4  Petter Mattei's \"Love in the Time of Money\" is...  positive"
            ]
          },
          "metadata": {},
          "execution_count": 38
        }
      ]
    },
    {
      "cell_type": "markdown",
      "source": [
        "Distribution of target variable : "
      ],
      "metadata": {
        "id": "-2djovzOtXRe"
      }
    },
    {
      "cell_type": "code",
      "source": [
        "imbd.sentiment.value_counts()"
      ],
      "metadata": {
        "colab": {
          "base_uri": "https://localhost:8080/"
        },
        "id": "KXzNel50thpy",
        "outputId": "3728fada-3839-42b4-84ab-94949394cdb1"
      },
      "execution_count": 39,
      "outputs": [
        {
          "output_type": "execute_result",
          "data": {
            "text/plain": [
              "positive    25000\n",
              "negative    25000\n",
              "Name: sentiment, dtype: int64"
            ]
          },
          "metadata": {},
          "execution_count": 39
        }
      ]
    },
    {
      "cell_type": "markdown",
      "source": [
        "Factoring sentences into words :"
      ],
      "metadata": {
        "id": "I-fIQaKntuH2"
      }
    },
    {
      "cell_type": "code",
      "source": [
        "text = imbd['review'][0]\n",
        "print(text)\n",
        "print(\"<================>\")\n",
        "print(word_tokenize(text))"
      ],
      "metadata": {
        "colab": {
          "base_uri": "https://localhost:8080/"
        },
        "id": "aG5FPOo1ty2p",
        "outputId": "0c299b82-ef79-4abb-d753-043569554f9e"
      },
      "execution_count": 40,
      "outputs": [
        {
          "output_type": "stream",
          "name": "stdout",
          "text": [
            "One of the other reviewers has mentioned that after watching just 1 Oz episode you'll be hooked. They are right, as this is exactly what happened with me.<br /><br />The first thing that struck me about Oz was its brutality and unflinching scenes of violence, which set in right from the word GO. Trust me, this is not a show for the faint hearted or timid. This show pulls no punches with regards to drugs, sex or violence. Its is hardcore, in the classic use of the word.<br /><br />It is called OZ as that is the nickname given to the Oswald Maximum Security State Penitentary. It focuses mainly on Emerald City, an experimental section of the prison where all the cells have glass fronts and face inwards, so privacy is not high on the agenda. Em City is home to many..Aryans, Muslims, gangstas, Latinos, Christians, Italians, Irish and more....so scuffles, death stares, dodgy dealings and shady agreements are never far away.<br /><br />I would say the main appeal of the show is due to the fact that it goes where other shows wouldn't dare. Forget pretty pictures painted for mainstream audiences, forget charm, forget romance...OZ doesn't mess around. The first episode I ever saw struck me as so nasty it was surreal, I couldn't say I was ready for it, but as I watched more, I developed a taste for Oz, and got accustomed to the high levels of graphic violence. Not just violence, but injustice (crooked guards who'll be sold out for a nickel, inmates who'll kill on order and get away with it, well mannered, middle class inmates being turned into prison bitches due to their lack of street skills or prison experience) Watching Oz, you may become comfortable with what is uncomfortable viewing....thats if you can get in touch with your darker side.\n",
            "<================>\n",
            "['One', 'of', 'the', 'other', 'reviewers', 'has', 'mentioned', 'that', 'after', 'watching', 'just', '1', 'Oz', 'episode', 'you', \"'ll\", 'be', 'hooked', '.', 'They', 'are', 'right', ',', 'as', 'this', 'is', 'exactly', 'what', 'happened', 'with', 'me.', '<', 'br', '/', '>', '<', 'br', '/', '>', 'The', 'first', 'thing', 'that', 'struck', 'me', 'about', 'Oz', 'was', 'its', 'brutality', 'and', 'unflinching', 'scenes', 'of', 'violence', ',', 'which', 'set', 'in', 'right', 'from', 'the', 'word', 'GO', '.', 'Trust', 'me', ',', 'this', 'is', 'not', 'a', 'show', 'for', 'the', 'faint', 'hearted', 'or', 'timid', '.', 'This', 'show', 'pulls', 'no', 'punches', 'with', 'regards', 'to', 'drugs', ',', 'sex', 'or', 'violence', '.', 'Its', 'is', 'hardcore', ',', 'in', 'the', 'classic', 'use', 'of', 'the', 'word.', '<', 'br', '/', '>', '<', 'br', '/', '>', 'It', 'is', 'called', 'OZ', 'as', 'that', 'is', 'the', 'nickname', 'given', 'to', 'the', 'Oswald', 'Maximum', 'Security', 'State', 'Penitentary', '.', 'It', 'focuses', 'mainly', 'on', 'Emerald', 'City', ',', 'an', 'experimental', 'section', 'of', 'the', 'prison', 'where', 'all', 'the', 'cells', 'have', 'glass', 'fronts', 'and', 'face', 'inwards', ',', 'so', 'privacy', 'is', 'not', 'high', 'on', 'the', 'agenda', '.', 'Em', 'City', 'is', 'home', 'to', 'many..Aryans', ',', 'Muslims', ',', 'gangstas', ',', 'Latinos', ',', 'Christians', ',', 'Italians', ',', 'Irish', 'and', 'more', '...', '.so', 'scuffles', ',', 'death', 'stares', ',', 'dodgy', 'dealings', 'and', 'shady', 'agreements', 'are', 'never', 'far', 'away.', '<', 'br', '/', '>', '<', 'br', '/', '>', 'I', 'would', 'say', 'the', 'main', 'appeal', 'of', 'the', 'show', 'is', 'due', 'to', 'the', 'fact', 'that', 'it', 'goes', 'where', 'other', 'shows', 'would', \"n't\", 'dare', '.', 'Forget', 'pretty', 'pictures', 'painted', 'for', 'mainstream', 'audiences', ',', 'forget', 'charm', ',', 'forget', 'romance', '...', 'OZ', 'does', \"n't\", 'mess', 'around', '.', 'The', 'first', 'episode', 'I', 'ever', 'saw', 'struck', 'me', 'as', 'so', 'nasty', 'it', 'was', 'surreal', ',', 'I', 'could', \"n't\", 'say', 'I', 'was', 'ready', 'for', 'it', ',', 'but', 'as', 'I', 'watched', 'more', ',', 'I', 'developed', 'a', 'taste', 'for', 'Oz', ',', 'and', 'got', 'accustomed', 'to', 'the', 'high', 'levels', 'of', 'graphic', 'violence', '.', 'Not', 'just', 'violence', ',', 'but', 'injustice', '(', 'crooked', 'guards', 'who', \"'ll\", 'be', 'sold', 'out', 'for', 'a', 'nickel', ',', 'inmates', 'who', \"'ll\", 'kill', 'on', 'order', 'and', 'get', 'away', 'with', 'it', ',', 'well', 'mannered', ',', 'middle', 'class', 'inmates', 'being', 'turned', 'into', 'prison', 'bitches', 'due', 'to', 'their', 'lack', 'of', 'street', 'skills', 'or', 'prison', 'experience', ')', 'Watching', 'Oz', ',', 'you', 'may', 'become', 'comfortable', 'with', 'what', 'is', 'uncomfortable', 'viewing', '...', '.thats', 'if', 'you', 'can', 'get', 'in', 'touch', 'with', 'your', 'darker', 'side', '.']\n"
          ]
        }
      ]
    },
    {
      "cell_type": "code",
      "source": [
        "corpus = []\n",
        "for text in imbd['review']:\n",
        "    words = [word.lower() for word in word_tokenize(text)]\n",
        "    corpus.append(words)"
      ],
      "metadata": {
        "id": "kDKm9q3VuUoc"
      },
      "execution_count": 41,
      "outputs": []
    },
    {
      "cell_type": "code",
      "source": [
        "num_words = len(corpus)\n",
        "print(num_words)"
      ],
      "metadata": {
        "colab": {
          "base_uri": "https://localhost:8080/"
        },
        "id": "El1Zd9kwvl-O",
        "outputId": "8aad8e14-c67a-4c9c-aba3-dd219a4fb1e2"
      },
      "execution_count": 42,
      "outputs": [
        {
          "output_type": "stream",
          "name": "stdout",
          "text": [
            "50000\n"
          ]
        }
      ]
    },
    {
      "cell_type": "markdown",
      "source": [
        "Spiltting data to train(80%) and test(20%) :"
      ],
      "metadata": {
        "id": "5e0rliQ7vtrF"
      }
    },
    {
      "cell_type": "code",
      "source": [
        "imbd.shape"
      ],
      "metadata": {
        "colab": {
          "base_uri": "https://localhost:8080/"
        },
        "id": "ax8l60EywefR",
        "outputId": "54f45a89-27a9-4a08-a2be-f6583e6c3021"
      },
      "execution_count": 43,
      "outputs": [
        {
          "output_type": "execute_result",
          "data": {
            "text/plain": [
              "(50000, 2)"
            ]
          },
          "metadata": {},
          "execution_count": 43
        }
      ]
    },
    {
      "cell_type": "code",
      "source": [
        "train_size = int(imbd.shape[0] *0.8)\n",
        "X_train = imbd.review[:train_size]\n",
        "y_train = imbd.sentiment[:train_size]\n",
        "\n",
        "X_test = imbd.review[train_size:]\n",
        "y_test = imbd.sentiment[train_size:]"
      ],
      "metadata": {
        "id": "2ONHEEltxd8d"
      },
      "execution_count": 44,
      "outputs": []
    },
    {
      "cell_type": "markdown",
      "source": [
        "Tokenizing the words and padding for equal input dimensions :"
      ],
      "metadata": {
        "id": "QUH9R-U9zR5p"
      }
    },
    {
      "cell_type": "code",
      "source": [
        "tokenizer = Tokenizer(num_words)\n",
        "tokenizer.fit_on_texts(X_train)\n",
        "X_train = tokenizer.texts_to_sequences(X_train)\n",
        "X_train = pad_sequences(X_train, maxlen = 128, truncating = 'post', padding='post')"
      ],
      "metadata": {
        "id": "xvrVeSadzRJ-"
      },
      "execution_count": 45,
      "outputs": []
    },
    {
      "cell_type": "code",
      "source": [
        "X_train[0], len(X_train[0])"
      ],
      "metadata": {
        "colab": {
          "base_uri": "https://localhost:8080/"
        },
        "id": "Z_TSW4bkRpUn",
        "outputId": "2fcdd7f8-517c-40eb-db6b-795c02f408d2"
      },
      "execution_count": 46,
      "outputs": [
        {
          "output_type": "execute_result",
          "data": {
            "text/plain": [
              "(array([   27,     4,     1,    80,  2102,    45,  1073,    12,   100,\n",
              "          147,    39,   316,  2968,   409,   459,    26,  3173,    33,\n",
              "           23,   200,    14,    11,     6,   614,    48,   606,    16,\n",
              "           68,     7,     7,     1,    87,   148,    12,  3256,    68,\n",
              "           41,  2968,    13,    92,  5626,     2, 16202,   134,     4,\n",
              "          569,    60,   271,     8,   200,    36,     1,   673,   139,\n",
              "         1712,    68,    11,     6,    21,     3,   118,    15,     1,\n",
              "         7870,  2257,    38, 11540,    11,   118,  2495,    54,  5662,\n",
              "           16,  5182,     5,  1438,   377,    38,   569,    92,     6,\n",
              "         3730,     8,     1,   360,   353,     4,     1,   673,     7,\n",
              "            7,     9,     6,   431,  2968,    14,    12,     6,     1,\n",
              "        11736,   356,     5,     1, 14689,  6526,  2594,  1087,     9,\n",
              "         2661,  1432,    20, 22583,   534,    32,  4795,  2451,     4,\n",
              "            1,  1193,   117,    29,     1,  6893,    25,  2874, 12191,\n",
              "            2,   392], dtype=int32), 128)"
            ]
          },
          "metadata": {},
          "execution_count": 46
        }
      ]
    },
    {
      "cell_type": "code",
      "source": [
        "from nltk.util import pad_sequence\n",
        "X_test = tokenizer.texts_to_sequences(X_test)\n",
        "X_test = pad_sequences(X_test, maxlen= 128, truncating= 'post', padding = 'post')                                     "
      ],
      "metadata": {
        "id": "PdnAftBpR1bH"
      },
      "execution_count": 47,
      "outputs": []
    },
    {
      "cell_type": "code",
      "source": [
        "X_test[0], len(X_test[0])"
      ],
      "metadata": {
        "colab": {
          "base_uri": "https://localhost:8080/"
        },
        "id": "C-S_NOY0SQzu",
        "outputId": "573e33c1-df0d-4b0b-96ec-4df9779824fa"
      },
      "execution_count": 48,
      "outputs": [
        {
          "output_type": "execute_result",
          "data": {
            "text/plain": [
              "(array([   87,   122,    10,   180,     5,   132,    12,    10,  7131,\n",
              "         3717,    20,     1,  1001,  2285,     2,    10,   255,     1,\n",
              "           17,  2431,    10,  1311,     5,   103,     1,   222,  6349,\n",
              "            4,     3,    19,    11,    17,   974,     3,   351,     5,\n",
              "          215,  1011,   415,     9,    13,   215,  1380,    56,   235,\n",
              "          402,   300,     4,   316,    23,   257,    19,   961,    12,\n",
              "        22250,    12,    33,    66,    61,   212,    53,    16,    11,\n",
              "          113,    13,   497,     2,     1,   102,    70,  5358,    15,\n",
              "            1,    88,   172,     1,   473,   824,     8,     1,    64,\n",
              "           67,    54,    49,  2406,    30,    29,    33,    90,    40,\n",
              "        35787,    83,    46,   438,     4,     3,    74,   220,     2,\n",
              "           10,   115,    21,    63,    12,    30,    29,   268,    10,\n",
              "         1059,   137,    10,    78,    21,   119,    28,    13,     1,\n",
              "           88,   175,     5,   728,  3423,   108,     8,     1,    17,\n",
              "           10,   115], dtype=int32), 128)"
            ]
          },
          "metadata": {},
          "execution_count": 48
        }
      ]
    },
    {
      "cell_type": "code",
      "source": [
        "print(X_train.shape, y_train.shape)\n",
        "print(X_test.shape, y_test.shape)"
      ],
      "metadata": {
        "colab": {
          "base_uri": "https://localhost:8080/"
        },
        "id": "IkCfM74GSYPX",
        "outputId": "43f73876-637e-4515-e1dc-e8293706fbf1"
      },
      "execution_count": 49,
      "outputs": [
        {
          "output_type": "stream",
          "name": "stdout",
          "text": [
            "(40000, 128) (40000,)\n",
            "(10000, 128) (10000,)\n"
          ]
        }
      ]
    },
    {
      "cell_type": "code",
      "source": [
        "le = LabelEncoder()\n",
        "y_train = le.fit_transform(y_train)\n",
        "y_test = le.transform(y_test)"
      ],
      "metadata": {
        "id": "7EXYPLQzTD7X"
      },
      "execution_count": 50,
      "outputs": []
    },
    {
      "cell_type": "markdown",
      "source": [
        "Creating a Base Model :"
      ],
      "metadata": {
        "id": "abw3x8wdTXrp"
      }
    },
    {
      "cell_type": "code",
      "source": [
        "model = Sequential()\n",
        "model.add(Embedding(input_dim = num_words, output_dim = 100,\n",
        "                    input_length = 128, trainable= True))\n",
        "model.add(LSTM(100, dropout= 0.1, return_sequences= True))\n",
        "model.add(LSTM(100, dropout=0.1))\n",
        "model.add(Dense(1, activation= 'sigmoid'))\n",
        "\n",
        "model.compile(loss='binary_crossentropy', optimizer='adam', metrics=['accuracy'])"
      ],
      "metadata": {
        "id": "ReU90zp2TsmF"
      },
      "execution_count": 51,
      "outputs": []
    },
    {
      "cell_type": "code",
      "source": [
        "model.summary()"
      ],
      "metadata": {
        "colab": {
          "base_uri": "https://localhost:8080/"
        },
        "id": "PncMkpqgZcz5",
        "outputId": "2b091295-55b0-4bc7-b488-95056f85a0e8"
      },
      "execution_count": 52,
      "outputs": [
        {
          "output_type": "stream",
          "name": "stdout",
          "text": [
            "Model: \"sequential_1\"\n",
            "_________________________________________________________________\n",
            " Layer (type)                Output Shape              Param #   \n",
            "=================================================================\n",
            " embedding_1 (Embedding)     (None, 128, 100)          5000000   \n",
            "                                                                 \n",
            " lstm_2 (LSTM)               (None, 128, 100)          80400     \n",
            "                                                                 \n",
            " lstm_3 (LSTM)               (None, 100)               80400     \n",
            "                                                                 \n",
            " dense_1 (Dense)             (None, 1)                 101       \n",
            "                                                                 \n",
            "=================================================================\n",
            "Total params: 5,160,901\n",
            "Trainable params: 5,160,901\n",
            "Non-trainable params: 0\n",
            "_________________________________________________________________\n"
          ]
        }
      ]
    },
    {
      "cell_type": "code",
      "source": [
        "history = model.fit(X_train, y_train, epochs=20, batch_size=64, validation_data=(X_test, y_test))"
      ],
      "metadata": {
        "colab": {
          "base_uri": "https://localhost:8080/"
        },
        "id": "p4lNfpTkZjir",
        "outputId": "d5c69ebd-2e0f-48e7-9e9a-e2f639d16209"
      },
      "execution_count": 55,
      "outputs": [
        {
          "output_type": "stream",
          "name": "stdout",
          "text": [
            "Epoch 1/20\n",
            "625/625 [==============================] - 236s 378ms/step - loss: 0.0457 - accuracy: 0.9857 - val_loss: 0.4749 - val_accuracy: 0.8441\n",
            "Epoch 2/20\n",
            "625/625 [==============================] - 234s 375ms/step - loss: 0.0438 - accuracy: 0.9866 - val_loss: 0.6950 - val_accuracy: 0.8491\n",
            "Epoch 3/20\n",
            "625/625 [==============================] - 233s 373ms/step - loss: 0.0332 - accuracy: 0.9903 - val_loss: 0.6702 - val_accuracy: 0.8395\n",
            "Epoch 4/20\n",
            "625/625 [==============================] - 233s 373ms/step - loss: 0.0287 - accuracy: 0.9916 - val_loss: 0.6751 - val_accuracy: 0.8373\n",
            "Epoch 5/20\n",
            "625/625 [==============================] - 232s 372ms/step - loss: 0.0277 - accuracy: 0.9920 - val_loss: 0.8053 - val_accuracy: 0.8472\n",
            "Epoch 6/20\n",
            "625/625 [==============================] - 234s 375ms/step - loss: 0.0181 - accuracy: 0.9948 - val_loss: 0.7980 - val_accuracy: 0.8353\n",
            "Epoch 7/20\n",
            "625/625 [==============================] - 233s 373ms/step - loss: 0.0217 - accuracy: 0.9936 - val_loss: 0.8341 - val_accuracy: 0.8415\n",
            "Epoch 8/20\n",
            "625/625 [==============================] - 234s 374ms/step - loss: 0.0165 - accuracy: 0.9951 - val_loss: 0.7827 - val_accuracy: 0.8402\n",
            "Epoch 9/20\n",
            "625/625 [==============================] - 234s 374ms/step - loss: 0.0139 - accuracy: 0.9957 - val_loss: 0.7272 - val_accuracy: 0.8328\n",
            "Epoch 10/20\n",
            "625/625 [==============================] - 234s 374ms/step - loss: 0.0227 - accuracy: 0.9926 - val_loss: 0.7789 - val_accuracy: 0.8382\n",
            "Epoch 11/20\n",
            "625/625 [==============================] - 234s 374ms/step - loss: 0.0229 - accuracy: 0.9926 - val_loss: 0.8164 - val_accuracy: 0.8437\n",
            "Epoch 12/20\n",
            "625/625 [==============================] - 233s 373ms/step - loss: 0.0058 - accuracy: 0.9985 - val_loss: 0.9828 - val_accuracy: 0.8387\n",
            "Epoch 13/20\n",
            "625/625 [==============================] - 233s 373ms/step - loss: 0.0080 - accuracy: 0.9977 - val_loss: 0.8875 - val_accuracy: 0.8404\n",
            "Epoch 14/20\n",
            "625/625 [==============================] - 233s 373ms/step - loss: 0.0074 - accuracy: 0.9981 - val_loss: 0.9251 - val_accuracy: 0.8419\n",
            "Epoch 15/20\n",
            "625/625 [==============================] - 239s 383ms/step - loss: 0.0090 - accuracy: 0.9973 - val_loss: 1.0068 - val_accuracy: 0.8448\n",
            "Epoch 16/20\n",
            "625/625 [==============================] - 237s 379ms/step - loss: 0.0070 - accuracy: 0.9980 - val_loss: 0.8921 - val_accuracy: 0.8391\n",
            "Epoch 17/20\n",
            "625/625 [==============================] - 237s 378ms/step - loss: 0.0099 - accuracy: 0.9973 - val_loss: 0.9423 - val_accuracy: 0.8454\n",
            "Epoch 18/20\n",
            "625/625 [==============================] - 239s 383ms/step - loss: 0.0084 - accuracy: 0.9974 - val_loss: 0.8956 - val_accuracy: 0.8396\n",
            "Epoch 19/20\n",
            "625/625 [==============================] - 238s 380ms/step - loss: 0.0046 - accuracy: 0.9987 - val_loss: 0.9574 - val_accuracy: 0.8402\n",
            "Epoch 20/20\n",
            "625/625 [==============================] - 240s 384ms/step - loss: 0.0085 - accuracy: 0.9975 - val_loss: 0.8236 - val_accuracy: 0.8361\n"
          ]
        }
      ]
    },
    {
      "cell_type": "markdown",
      "source": [
        "Loss figure :"
      ],
      "metadata": {
        "id": "utAjXFA3IcPf"
      }
    },
    {
      "cell_type": "code",
      "source": [
        "plt.figure(figsize=(16,5))\n",
        "epochs = range(1, len(history.history['accuracy'])+1)\n",
        "plt.plot(epochs, history.history['loss'], 'b', label='Training Loss', color='red')\n",
        "plt.plot(epochs, history.history['val_loss'], 'b', label='Validation loss')\n",
        "plt.legend()\n",
        "plt.show()"
      ],
      "metadata": {
        "colab": {
          "base_uri": "https://localhost:8080/",
          "height": 322
        },
        "id": "lo4jDs9FIgYs",
        "outputId": "f446436d-5a86-410c-c0b5-4691b0b858f8"
      },
      "execution_count": 56,
      "outputs": [
        {
          "output_type": "display_data",
          "data": {
            "image/png": "[encoded data removed]",
            "text/plain": [
              "<Figure size 1152x360 with 1 Axes>"
            ]
          },
          "metadata": {}
        }
      ]
    },
    {
      "cell_type": "markdown",
      "source": [
        "Accuracy figure :"
      ],
      "metadata": {
        "id": "cPZ5Y7V2J0uh"
      }
    },
    {
      "cell_type": "code",
      "source": [
        "plt.figure(figsize=(16,5))\n",
        "epochs = range(1, len(history.history['accuracy'])+1)\n",
        "plt.plot(epochs, history.history['accuracy'], 'b', label='Training Acurracy', color='red')\n",
        "plt.plot(epochs, history.history['val_accuracy'], 'b', label='Validation Acurracy')\n",
        "plt.legend()\n",
        "plt.show()"
      ],
      "metadata": {
        "colab": {
          "base_uri": "https://localhost:8080/",
          "height": 322
        },
        "id": "AlwesDFBJ4h5",
        "outputId": "fd631581-6c36-4ed2-8509-083d65a01acf"
      },
      "execution_count": 57,
      "outputs": [
        {
          "output_type": "display_data",
          "data": {
            "image/png": "[encoded data removed]",
            "text/plain": [
              "<Figure size 1152x360 with 1 Axes>"
            ]
          },
          "metadata": {}
        }
      ]
    },
    {
      "cell_type": "markdown",
      "source": [
        "Validation test :"
      ],
      "metadata": {
        "id": "ODR3gDbWKqJV"
      }
    },
    {
      "cell_type": "markdown",
      "source": [
        "Test 1:"
      ],
      "metadata": {
        "id": "5J02NYhvUXF0"
      }
    },
    {
      "cell_type": "code",
      "source": [
        "validation_sentence = ['It had some bad parts like the storyline although the actors performed really well and that is why overall I enjoyed it.']\n",
        "validation_sentence_tokened = tokenizer.texts_to_sequences(validation_sentence)\n",
        "validation_sentence_padded = pad_sequences(validation_sentence_tokened, maxlen=128, \n",
        "                                           truncating= 'post', padding='post')\n",
        "print(validation_sentence[0])\n",
        "print('Probability of Positive: {}'.format(model.predict(validation_sentence_padded)[0]))"
      ],
      "metadata": {
        "colab": {
          "base_uri": "https://localhost:8080/"
        },
        "id": "UW-eGajeKuBm",
        "outputId": "50707800-9ec8-4fad-db73-80fbe8ee6abb"
      },
      "execution_count": 59,
      "outputs": [
        {
          "output_type": "stream",
          "name": "stdout",
          "text": [
            "It had some bad parts like the storyline although the actors performed really well and that is why overall I enjoyed it.\n",
            "Probability of Positive: [0.998716]\n"
          ]
        }
      ]
    },
    {
      "cell_type": "markdown",
      "source": [
        "Test 2 :"
      ],
      "metadata": {
        "id": "NK1mbsp1UaZa"
      }
    },
    {
      "cell_type": "code",
      "source": [
        "validation_sentence = ['this movie is very bad']\n",
        "validation_sentence_tokened = tokenizer.texts_to_sequences(validation_sentence)\n",
        "validation_sentence_padded = pad_sequences(validation_sentence_tokened, maxlen=128, \n",
        "                                           truncating= 'post', padding='post')\n",
        "print(validation_sentence[0])\n",
        "print('Probability of Positive: {}'.format(model.predict(validation_sentence_padded)[0]))"
      ],
      "metadata": {
        "colab": {
          "base_uri": "https://localhost:8080/"
        },
        "id": "N0xHWd2zMvZM",
        "outputId": "7bb81ebd-c494-48e9-d2f3-b6ac43d3f71f"
      },
      "execution_count": 63,
      "outputs": [
        {
          "output_type": "stream",
          "name": "stdout",
          "text": [
            "this movie is very bad\n",
            "Probability of Positive: [0.01574647]\n"
          ]
        }
      ]
    },
    {
      "cell_type": "markdown",
      "source": [
        "Test 3 :"
      ],
      "metadata": {
        "id": "rIScuhUHUdUn"
      }
    },
    {
      "cell_type": "code",
      "source": [
        "validation_sentence = ['I can watch this movie forever just because of the beauty in its cinematography.']\n",
        "validation_sentence_tokened = tokenizer.texts_to_sequences(validation_sentence)\n",
        "validation_sentence_padded = pad_sequences(validation_sentence_tokened, maxlen=128, \n",
        "                                           truncating= 'post', padding='post')\n",
        "print(validation_sentence[0])\n",
        "print('Probability of Positive: {}'.format(model.predict(validation_sentence_padded)[0]))"
      ],
      "metadata": {
        "colab": {
          "base_uri": "https://localhost:8080/"
        },
        "id": "11sSUlgeTo1Z",
        "outputId": "95491340-f01f-4e0c-d859-7100a65c9646"
      },
      "execution_count": 64,
      "outputs": [
        {
          "output_type": "stream",
          "name": "stdout",
          "text": [
            "I can watch this movie forever just because of the beauty in its cinematography.\n",
            "Probability of Positive: [0.9793362]\n"
          ]
        }
      ]
    },
    {
      "cell_type": "markdown",
      "source": [
        "Test 4 :"
      ],
      "metadata": {
        "id": "hNcM5LUvUgla"
      }
    },
    {
      "cell_type": "code",
      "source": [
        "validation_sentence = ['this is the worst movie ']\n",
        "validation_sentence_tokened = tokenizer.texts_to_sequences(validation_sentence)\n",
        "validation_sentence_padded = pad_sequences(validation_sentence_tokened, maxlen=128, \n",
        "                                           truncating= 'post', padding='post')\n",
        "print(validation_sentence[0])\n",
        "print('Probability of Positive: {}'.format(model.predict(validation_sentence_padded)[0]))"
      ],
      "metadata": {
        "colab": {
          "base_uri": "https://localhost:8080/"
        },
        "id": "WQhdAcO2UKur",
        "outputId": "36c69005-e801-4c0f-e9f1-c6b33ad6595f"
      },
      "execution_count": 65,
      "outputs": [
        {
          "output_type": "stream",
          "name": "stdout",
          "text": [
            "this is the worst movie \n",
            "Probability of Positive: [0.00626335]\n"
          ]
        }
      ]
    }
  ]
}